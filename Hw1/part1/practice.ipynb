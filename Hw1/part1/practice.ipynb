{
 "cells": [
  {
   "cell_type": "code",
   "execution_count": 1,
   "metadata": {},
   "outputs": [],
   "source": [
    "import cv2\n",
    "import numpy as np\n",
    "\n",
    "image_path = './testdata/1.png'\n",
    "img = cv2.imread(image_path, 0).astype(np.float64)"
   ]
  },
  {
   "cell_type": "code",
   "execution_count": 7,
   "metadata": {},
   "outputs": [],
   "source": [
    "sigma = 2**(1/4)\n",
    "num_DoG_images_per_octave = 4\n",
    "num_guassian_images_per_octave = num_DoG_images_per_octave + 1\n",
    "\n",
    "first_octave = [img] + [cv2.GaussianBlur(src = img, ksize = (0, 0), sigmaX = sigma**i) for i in range(1, num_guassian_images_per_octave)]"
   ]
  },
  {
   "cell_type": "code",
   "execution_count": 11,
   "metadata": {},
   "outputs": [],
   "source": [
    "# down-sample the image\n",
    "DSImage = cv2.resize(first_octave[-1], \n",
    "                     (img.shape[1]//2, img.shape[0]//2), \n",
    "                     interpolation = cv2.INTER_NEAREST)"
   ]
  },
  {
   "cell_type": "code",
   "execution_count": 14,
   "metadata": {},
   "outputs": [],
   "source": [
    "second_octave = [DSImage] + [cv2.GaussianBlur(src=DSImage, ksize=(0,0), sigmaX=sigma**i) for i in range(1, num_guassian_images_per_octave)]"
   ]
  },
  {
   "cell_type": "code",
   "execution_count": 18,
   "metadata": {},
   "outputs": [],
   "source": [
    "gaussian_images = [first_octave, second_octave]"
   ]
  },
  {
   "cell_type": "code",
   "execution_count": 20,
   "metadata": {},
   "outputs": [],
   "source": [
    "num_octaves = 2\n",
    "dog_images = []\n",
    "\n",
    "for i in range(num_octaves):\n",
    "    GImg = gaussian_images[i]\n",
    "    dog_img = []\n",
    "    for j in range(num_DoG_images_per_octave):\n",
    "        dog = cv2.subtract(GImg[j], GImg[j+1])\n",
    "        dog_img.append(dog)\n",
    "        M, m = max(dog.flatten()), min(dog.flatten())\n",
    "        norm = (dog-m)*255/(M-m)\n",
    "        cv2.imwrite(f'testdata/DoG{i+1}-{j+1}.png', norm)\n",
    "    dog_images.append(dog_img)"
   ]
  },
  {
   "cell_type": "code",
   "execution_count": 47,
   "metadata": {},
   "outputs": [
    {
     "data": {
      "text/plain": [
       "(463, 360)"
      ]
     },
     "execution_count": 47,
     "metadata": {},
     "output_type": "execute_result"
    }
   ],
   "source": [
    "dog_images[0][0].shape"
   ]
  },
  {
   "cell_type": "code",
   "execution_count": null,
   "metadata": {},
   "outputs": [],
   "source": [
    "threshold = 5.0\n",
    "\n",
    "keypoints = []\n",
    "# iterate throught each ocvate (n=2 here)\n",
    "for i in range(num_octaves):\n",
    "    # transform an octave into a 3-dimensional array\n",
    "    dogs = np.array(dog_images[i])\n",
    "    height, width = dogs[i].shape\n",
    "    # examine every 3*3 cube for local extremum\n",
    "    #iterate through Dog image number 1 and 2 (other than 0 and 3)\n",
    "    for dog in range(1, num_DoG_images_per_octave-1):\n",
    "        #iterate through every pixel\n",
    "        for x in range(1, width-2):\n",
    "            for y in range(1, height-2):\n",
    "                pixel = dogs[dog,y,x]\n",
    "                cube = dogs[dog-1:dog+2, y-1:y+2, x-1:x+2]\n",
    "                # print(dog, y, x, cube.shape)\n",
    "                # to check if it's local extremum\n",
    "                if (np.absolute(pixel) > threshold) and ((pixel >= cube).all() or (pixel <= cube).all()):\n",
    "                    keypoints.append([y*2, x*2] if i else [y, x])"
   ]
  },
  {
   "cell_type": "code",
   "execution_count": 38,
   "metadata": {},
   "outputs": [],
   "source": [
    "keypoints = np.unique(np.array(keypoints), axis = 0)"
   ]
  },
  {
   "cell_type": "code",
   "execution_count": 39,
   "metadata": {},
   "outputs": [],
   "source": [
    "keypoints = keypoints[np.lexsort((keypoints[:,1],keypoints[:,0]))] "
   ]
  },
  {
   "cell_type": "code",
   "execution_count": 42,
   "metadata": {},
   "outputs": [
    {
     "name": "stdout",
     "output_type": "stream",
     "text": [
      "[Info] All keypoints match.\n"
     ]
    }
   ],
   "source": [
    "gt_path = './testdata/1_gt.npy'\n",
    "keypoints_gt = np.load(gt_path)\n",
    "\n",
    "if keypoints.shape[0] != keypoints_gt.shape[0]:\n",
    "    print('[Error] Number of KeyPoints mismatches. Yours: %d, GT: %d'%\n",
    "          (keypoints.shape[0], keypoints_gt.shape[0]))\n",
    "else:\n",
    "    for (x, y), (x_gt, y_gt) in zip(keypoints, keypoints_gt):\n",
    "        if x != x_gt or y != y_gt:\n",
    "            print('[Error] KeyPoint mismatches. Yours: (%d, %d), GT: (%d, %d)'%\n",
    "                    (x, y, x_gt, y_gt))\n",
    "            # return None\n",
    "    print('[Info] All keypoints match.')"
   ]
  }
 ],
 "metadata": {
  "kernelspec": {
   "display_name": "CV",
   "language": "python",
   "name": "python3"
  },
  "language_info": {
   "codemirror_mode": {
    "name": "ipython",
    "version": 3
   },
   "file_extension": ".py",
   "mimetype": "text/x-python",
   "name": "python",
   "nbconvert_exporter": "python",
   "pygments_lexer": "ipython3",
   "version": "3.8.20"
  }
 },
 "nbformat": 4,
 "nbformat_minor": 2
}
