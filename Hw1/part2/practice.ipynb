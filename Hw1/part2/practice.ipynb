{
 "cells": [
  {
   "cell_type": "code",
   "execution_count": 1,
   "metadata": {},
   "outputs": [
    {
     "name": "stdout",
     "output_type": "stream",
     "text": [
      "(316, 316, 3) (316, 316)\n"
     ]
    }
   ],
   "source": [
    "import cv2\n",
    "image_path = './testdata/ex.png'\n",
    "\n",
    "img = cv2.imread(image_path)\n",
    "img_rgb = cv2.cvtColor(img, cv2.COLOR_BGR2RGB)\n",
    "guidance = cv2.cvtColor(img, cv2.COLOR_BGR2GRAY)\n",
    "print(img.shape, guidance.shape)"
   ]
  },
  {
   "cell_type": "code",
   "execution_count": null,
   "metadata": {},
   "outputs": [],
   "source": [
    "import matplotlib.pyplot as plt\n",
    "\n",
    "plt.imshow(img_rgb)\n",
    "plt.axis(\"off\")  # 移除座標軸\n",
    "plt.show()"
   ]
  },
  {
   "cell_type": "code",
   "execution_count": 52,
   "metadata": {},
   "outputs": [
    {
     "name": "stdout",
     "output_type": "stream",
     "text": [
      "(334, 334, 3) (334, 334)\n"
     ]
    }
   ],
   "source": [
    "sigma_r = 0.1\n",
    "sigma_s = 3\n",
    "wndw_size = 6*sigma_s+1\n",
    "pad_w = 3*sigma_s\n",
    "\n",
    "BORDER_TYPE = cv2.BORDER_REFLECT\n",
    "padded_img = cv2.copyMakeBorder(img_rgb, pad_w, pad_w, pad_w, pad_w, BORDER_TYPE)\n",
    "padded_guidance = cv2.copyMakeBorder(guidance, pad_w, pad_w, pad_w, pad_w, BORDER_TYPE)\n",
    "print(padded_img.shape, padded_guidance.shape)"
   ]
  },
  {
   "cell_type": "code",
   "execution_count": 4,
   "metadata": {},
   "outputs": [],
   "source": [
    "import numpy as np\n",
    "\n",
    "padded_guidance = padded_guidance.astype('float64') / 255\n",
    "padded_img = padded_img.astype('float64')\n",
    "output = np.zeros(img_rgb.shape)"
   ]
  },
  {
   "cell_type": "code",
   "execution_count": null,
   "metadata": {},
   "outputs": [],
   "source": [
    "GaussianSpatial = np.zeros((wndw_size, wndw_size))\n",
    "for i in range(wndw_size):\n",
    "    for j in range(wndw_size):\n",
    "        GaussianSpatial[i, j] = np.exp(np.divide(np.square(i - pad_w) + np.square(j - pad_w), -2 * np.square(sigma_s)))\n",
    "\n",
    "# x, y = np.meshgrid(np.arange(self.wndw_size) - self.pad_w, np.arange(self.wndw_size) - self.pad_w, indexing='ij')\n",
    "# GaussianSpatial = np.exp(-(x**2 + y**2) / (2 * self.sigma_s**2))"
   ]
  },
  {
   "cell_type": "code",
   "execution_count": 44,
   "metadata": {},
   "outputs": [],
   "source": [
    "for i in range(pad_w, padded_guidance.shape[0] - pad_w):\n",
    "    for j in range(pad_w, padded_guidance.shape[1] - pad_w):\n",
    "        Tp = padded_guidance[i, j]\n",
    "        Tq = padded_guidance[i - pad_w: i + pad_w + 1, j - pad_w: j + pad_w + 1]\n",
    "        power = np.divide(np.square(Tq - Tp), -2 * np.square(sigma_r))\n",
    "        if len(power.shape) == 3:\n",
    "            power = power.sum(axis=2)\n",
    "        GaussianRange = np.exp(power)\n",
    "\n",
    "        G = np.multiply(GaussianSpatial, GaussianRange)\n",
    "        W = G.sum()\n",
    "\n",
    "        Iq = padded_img[i - pad_w: i + pad_w + 1, j - pad_w: j + pad_w + 1] # (19, 19, 3)\n",
    "        for c in range(img_rgb.shape[2]):\n",
    "            output[i - pad_w, j - pad_w, c] = np.multiply(G, Iq[:,:,c]).sum() / W\n",
    "\n",
    "output = np.clip(output, 0, 255).astype(np.uint8)"
   ]
  },
  {
   "cell_type": "markdown",
   "metadata": {},
   "source": [
    "### Main.py section"
   ]
  },
  {
   "cell_type": "code",
   "execution_count": 25,
   "metadata": {},
   "outputs": [],
   "source": [
    "\"\"\" 讀取設定檔中的灰階轉換參數和 sigma 值 \"\"\"\n",
    "with open('./testdata/1_setting.txt', 'r') as f:\n",
    "    lines = f.readlines()\n",
    "\n",
    "grayscale_params = []\n",
    "sigma_s, sigma_r = None, None\n",
    "\n",
    "# for line in lines:\n",
    "#     values = line.strip().split(',')\n",
    "#     if \"sigma_s\" in line:\n",
    "#         sigma_s = float(values[1])  # 解析 sigma_s\n",
    "#         sigma_r = float(values[3])  # 解析 sigma_r\n",
    "#     else:\n",
    "#         grayscale_params.append(list(map(float, values)))  # 解析 R, G, B 權重\n",
    "\n",
    "# return np.array(grayscale_params), sigma_s, sigma_r"
   ]
  },
  {
   "cell_type": "code",
   "execution_count": 26,
   "metadata": {},
   "outputs": [],
   "source": [
    "import numpy as np\n",
    "\n",
    "for line in lines:\n",
    "    values = line.strip().split(',')\n",
    "    if values[0] == 'R':\n",
    "        continue\n",
    "    elif \"sigma_s\" in line:\n",
    "        sigma_s = float(values[1])\n",
    "        sigma_r = float(values[3])\n",
    "    else:\n",
    "        grayscale_params.append(list(map(float, values)))  # 解析 R, G, B 權重\n",
    "grayscale_params = np.array(grayscale_params)"
   ]
  },
  {
   "cell_type": "code",
   "execution_count": 51,
   "metadata": {},
   "outputs": [
    {
     "name": "stdout",
     "output_type": "stream",
     "text": [
      "(300, 400) (300, 400)\n"
     ]
    }
   ],
   "source": [
    "import cv2\n",
    "\n",
    "\"\"\" 根據設定的轉換參數生成灰階影像 \"\"\"\n",
    "img = cv2.imread('./testdata/1.png')\n",
    "img_rgb = cv2.cvtColor(img, cv2.COLOR_BGR2RGB)\n",
    "img_gray = cv2.cvtColor(img,cv2.COLOR_BGR2GRAY)\n",
    "\n",
    "gray_images = []\n",
    "for params in grayscale_params:\n",
    "    gray_img = np.dot(img_rgb, params).astype(np.uint8)  # RGB 加權求和轉換\n",
    "    gray_images.append(gray_img)\n",
    "\n",
    "print(gray_images[0].shape, img_gray.shape)"
   ]
  },
  {
   "cell_type": "code",
   "execution_count": 50,
   "metadata": {},
   "outputs": [],
   "source": [
    "for i in range(pad_w, padded_guidance.shape[0] - pad_w):\n",
    "    for j in range(pad_w, padded_guidance.shape[1] - pad_w):\n",
    "        Tp = padded_guidance[i, j]\n",
    "        Tq = padded_guidance[i - pad_w: i + pad_w + 1, j - pad_w: j + pad_w + 1]\n",
    "        power = np.divide(np.square(Tq - Tp), -2 * np.square(sigma_r))\n",
    "        if len(power.shape) == 3:\n",
    "            power = power.sum(axis=2)\n",
    "        GaussianRange = np.exp(power)\n",
    "\n",
    "        G = np.multiply(GaussianSpatial, GaussianRange)\n",
    "        W = G.sum()\n",
    "\n",
    "        Iq = padded_img[i - pad_w: i + pad_w + 1, j - pad_w: j + pad_w + 1] # (19, 19, 3)\n",
    "        for c in range(img_rgb.shape[2]):\n",
    "            output[i - pad_w, j - pad_w, c] = np.multiply(G, Iq[:,:,c]).sum() / W\n",
    "\n",
    "output1 = np.clip(output, 0, 255).astype(np.uint8)"
   ]
  },
  {
   "cell_type": "code",
   "execution_count": null,
   "metadata": {},
   "outputs": [],
   "source": [
    "from numpy.lib.stride_tricks import sliding_window_view\n",
    "H, W = padded_guidance.shape[:2]\n",
    "img_H, img_W = H - 2 * pad_w, W - 2 * pad_w\n",
    "\n",
    "Tq = sliding_window_view(padded_guidance, (2 * pad_w + 1, 2 * pad_w + 1))  # (H-2pad, W-2pad, wndw_size, wndw_size)\n",
    "Iq = sliding_window_view(padded_img, (2 * pad_w + 1, 2 * pad_w + 1, 3))    # (H-2pad, W-2pad, wndw_size, wndw_size, 3)\n",
    "\n",
    "# 生成座標網格 (i, j)\n",
    "i, j = np.meshgrid(np.arange(img_H), np.arange(img_W), indexing='ij')\n",
    "\n",
    "# 取得中心像素 Tp (i, j 對應的 guidance map)\n",
    "Tp = padded_guidance[pad_w:H-pad_w, pad_w:W-pad_w]  # (img_H, img_W)\n",
    "\n",
    "# 計算 Gaussian Range (取代 for 迴圈)\n",
    "power = np.divide(np.square(Tq - Tp[:, :, None, None]), -2 * np.square(sigma_r))  # (img_H, img_W, wndw_size, wndw_size)\n",
    "\n",
    "# 若是多通道影像 (RGB)\n",
    "if len(power.shape) == 3:\n",
    "    power = power.sum(axis=2)  # 對 RGB 通道進行累加\n",
    "\n",
    "GaussianRange = np.exp(power)  # (img_H, img_W, wndw_size, wndw_size)\n",
    "\n",
    "G = GaussianSpatial[None, None, :, :] * GaussianRange  # (img_H, img_W, wndw_size, wndw_size)\n",
    "W = G.sum(axis=(2, 3), keepdims=True)  # 加總權重 (img_H, img_W, 1, 1)\n",
    "\n",
    "# 計算最終濾波結果（對 R, G, B 分開計算）\n",
    "output2 = np.sum(G[..., None] * Iq, axis=(2, 3)) / W  # (img_H, img_W, 3)\n",
    "\n"
   ]
  },
  {
   "cell_type": "code",
   "execution_count": null,
   "metadata": {},
   "outputs": [],
   "source": []
  }
 ],
 "metadata": {
  "kernelspec": {
   "display_name": "CV",
   "language": "python",
   "name": "python3"
  },
  "language_info": {
   "codemirror_mode": {
    "name": "ipython",
    "version": 3
   },
   "file_extension": ".py",
   "mimetype": "text/x-python",
   "name": "python",
   "nbconvert_exporter": "python",
   "pygments_lexer": "ipython3",
   "version": "3.8.20"
  }
 },
 "nbformat": 4,
 "nbformat_minor": 2
}
